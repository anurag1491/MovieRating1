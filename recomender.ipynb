{
 "metadata": {
  "name": "",
  "signature": "sha256:92dd964732573954721019e82328642bdb9534adaea6308db381ecd25ae0f74b"
 },
 "nbformat": 3,
 "nbformat_minor": 0,
 "worksheets": [
  {
   "cells": [
    {
     "cell_type": "code",
     "collapsed": false,
     "input": [
      "import pandas as pd\n",
      "import numpy as np"
     ],
     "language": "python",
     "metadata": {},
     "outputs": [],
     "prompt_number": 1
    },
    {
     "cell_type": "code",
     "collapsed": false,
     "input": [
      "#download the class movie reviews from here:\n",
      "#https://docs.google.com/spreadsheets/d/17rCJzmWxqvAu9rkpkgt4ToccIlY4A1Ffuu1W9X3B8Ag/\n",
      "#then read that in as a pandas dataframe"
     ],
     "language": "python",
     "metadata": {},
     "outputs": [],
     "prompt_number": 2
    },
    {
     "cell_type": "code",
     "collapsed": false,
     "input": [
      "M = pd.read_csv('MovieReviews.csv', index_col='Name')"
     ],
     "language": "python",
     "metadata": {},
     "outputs": [],
     "prompt_number": 3
    },
    {
     "cell_type": "code",
     "collapsed": false,
     "input": [
      "def pearson(s1, s2):\n",
      "    \"\"\"Take two pd.Series objects and return a pearson correlation.\"\"\"\n",
      "    s1_c = s1 - s1.mean()\n",
      "    s2_c = s2 - s2.mean()\n",
      "    return np.sum(s1_c * s2_c) / np.sqrt(np.sum(s1_c ** 2) * np.sum(s2_c ** 2))"
     ],
     "language": "python",
     "metadata": {},
     "outputs": [],
     "prompt_number": 4
    },
    {
     "cell_type": "code",
     "collapsed": false,
     "input": [
      "def get_recs(movie_name, M, num):\n",
      "\n",
      "    import numpy as np\n",
      "    reviews = []\n",
      "    for title in M.columns:\n",
      "        if title == movie_name:\n",
      "            continue\n",
      "        cor = pearson(M[movie_name], M[title])\n",
      "        if np.isnan(cor):\n",
      "            continue\n",
      "        else:\n",
      "            reviews.append((title, cor))\n",
      "    \n",
      "    reviews.sort(key=lambda tup: tup[1], reverse=True)\n",
      "    return reviews[:num]\n",
      "\n",
      "    "
     ],
     "language": "python",
     "metadata": {},
     "outputs": [],
     "prompt_number": 5
    },
    {
     "cell_type": "markdown",
     "metadata": {},
     "source": [
      "###Question 1:  What movie is most Similar to 'The fault in our stars' (60 pts)\n"
     ]
    },
    {
     "cell_type": "code",
     "collapsed": false,
     "input": [
      "recs = get_recs('The Fault in Our Stars', M, 10)\n",
      "recs[:1]"
     ],
     "language": "python",
     "metadata": {},
     "outputs": [
      {
       "metadata": {},
       "output_type": "pyout",
       "prompt_number": 6,
       "text": [
        "[('Transformers', 0.46673568990261)]"
       ]
      }
     ],
     "prompt_number": 6
    },
    {
     "cell_type": "markdown",
     "metadata": {},
     "source": [
      "###Question 2:  Which movie(s) would you most like to see, based on your classmates experience? (40 pts)"
     ]
    },
    {
     "cell_type": "code",
     "collapsed": false,
     "input": [
      "#the movies I've seen\n",
      "my_ratings = M.ix['anurag'].dropna()\n",
      "#the movie I've rated the highest\n",
      "my_ratings.sort(ascending=False)"
     ],
     "language": "python",
     "metadata": {},
     "outputs": [],
     "prompt_number": 7
    },
    {
     "cell_type": "code",
     "collapsed": false,
     "input": [
      "my_ratings"
     ],
     "language": "python",
     "metadata": {},
     "outputs": [
      {
       "metadata": {},
       "output_type": "pyout",
       "prompt_number": 8,
       "text": [
        "300: Rise of an Empire        5\n",
        "Godzilla                      5\n",
        "American Sniper               4\n",
        "Divergent                     3\n",
        "How to Train your Dragon 2    3\n",
        "The Hobbit                    3\n",
        "Name: anurag, dtype: float64"
       ]
      }
     ],
     "prompt_number": 8
    },
    {
     "cell_type": "code",
     "collapsed": false,
     "input": [
      "#300: Rise of an Empire\n",
      "recs = get_recs('300: Rise of an Empire', M, 10)\n",
      "recs[:5]"
     ],
     "language": "python",
     "metadata": {},
     "outputs": [
      {
       "metadata": {},
       "output_type": "pyout",
       "prompt_number": 9,
       "text": [
        "[('How to Train your Dragon 2', 0.46985997206278196),\n",
        " ('American Sniper', 0.32877561843125369),\n",
        " ('Divergent', 0.26591297612400694),\n",
        " ('The Fault in Our Stars', 0.17712415504239529),\n",
        " ('Gone Girl', 0.12048193082387838)]"
       ]
      }
     ],
     "prompt_number": 9
    },
    {
     "cell_type": "code",
     "collapsed": false,
     "input": [
      "#Godzilla\n",
      "recs = get_recs('Godzilla', M, 10)\n",
      "recs[:5]"
     ],
     "language": "python",
     "metadata": {},
     "outputs": [
      {
       "metadata": {},
       "output_type": "pyout",
       "prompt_number": 10,
       "text": [
        "[('Transformers', 0.32426277459155317),\n",
        " ('Guardians of the Galaxy', 0.30559230550797084),\n",
        " ('The Fault in Our Stars', 0.26883661841491802),\n",
        " ('The Hunger Games: Mockingjay - Part 1', 0.26152237325425709),\n",
        " ('The Lego Movie', 0.2357081884462302)]"
       ]
      }
     ],
     "prompt_number": 10
    },
    {
     "cell_type": "markdown",
     "metadata": {},
     "source": [
      "###Question 3: Bonus Question...  For all the movies you haven't seen, can you predict how you'd rate them using your the class reviews? (10 pts)"
     ]
    },
    {
     "cell_type": "code",
     "collapsed": false,
     "input": [
      "not_rated = M.ix['anurag']\n",
      "not_rated.sort()\n",
      "for i in range(0, not_rated.count(), 1):\n",
      "    not_rated.drop(not_rated.index[0], inplace=True)"
     ],
     "language": "python",
     "metadata": {},
     "outputs": [],
     "prompt_number": 11
    },
    {
     "cell_type": "code",
     "collapsed": false,
     "input": [
      "not_rated"
     ],
     "language": "python",
     "metadata": {},
     "outputs": [
      {
       "metadata": {},
       "output_type": "pyout",
       "prompt_number": 12,
       "text": [
        "The Hunger Games: Mockingjay - Part 1   NaN\n",
        "Guardians of the Galaxy                 NaN\n",
        "The Lego Movie                          NaN\n",
        "Transformers                            NaN\n",
        "Malificent                              NaN\n",
        "Big Hero 6                              NaN\n",
        "Interstellar                            NaN\n",
        "Gone Girl                               NaN\n",
        "The Fault in Our Stars                  NaN\n",
        "Unbroken                                NaN\n",
        "Name: anurag, dtype: float64"
       ]
      }
     ],
     "prompt_number": 12
    },
    {
     "cell_type": "code",
     "collapsed": false,
     "input": [
      "print \"Pearson Correlation coefficient of :\"\n",
      "a= []\n",
      "for i in range(0, 27, 1): \n",
      "    cor=pearson(M.ix[27], M.ix[i])\n",
      "    print \"(\" + M.index[27] + \" , \" + M.index[i] + \") :\", cor\n",
      "    a.append(cor)"
     ],
     "language": "python",
     "metadata": {},
     "outputs": [
      {
       "output_type": "stream",
       "stream": "stdout",
       "text": [
        "Pearson Correlation coefficient of :\n",
        "(anurag , Mike) : -0.359043823013\n",
        "(anurag , HJ SONG) : 0.0310816550552\n",
        "(anurag , Ryan Hansen) : -0.439435374402\n",
        "(anurag , Olumuyiwa Durojaiye) : -0.439890041233\n",
        "(anurag , Charlie) : 0.239772767568\n",
        "(anurag , Sina Tuy) : -0.410215949438\n",
        "(anurag , Pavithra Shetty) : -0.114287580221\n",
        "(anurag , Sara Collins) : nan\n",
        "(anurag , Jonathan Doll) : -0.135915070555\n",
        "(anurag , saikiran reddy) : 0.0421766815732\n",
        "(anurag , Aishwarya reddy) : -0.0233954135448\n",
        "(anurag , Brant Mullinix) : -0.0114287580221\n",
        "(anurag , Sai Sampath) : -0.0233954135448\n",
        "(anurag , Suyendra) : -0.115430870995\n",
        "(anurag , Sai Yallapragada) : 0.0\n",
        "(anurag , Akhilesh) : 0.0589682369599\n",
        "(anurag , Sundar Prasad) : -0.433289122413\n",
        "(anurag , Evan Piercy) : -0.276818266179\n",
        "(anurag , Jessica Fong) : -0.207613699634\n",
        "(anurag , Onsiri Tapsarn) : nan\n",
        "(anurag , Anirudh Thota) : 0.265574872251\n",
        "(anurag , Greg Werner) :"
       ]
      },
      {
       "output_type": "stream",
       "stream": "stdout",
       "text": [
        " 0.041096854413\n",
        "(anurag , Violeta Lee Fay) : 0.00729480182554\n",
        "(anurag , Aditya Dharmasagar) : -0.0875376219065\n",
        "(anurag , Manideep Maddipatla) : 0.222422763401\n",
        "(anurag , Maheshwar Reddy) : -0.227823913653\n",
        "(anurag , siddanth sudarshan) : 0.524503771329\n"
       ]
      }
     ],
     "prompt_number": 13
    },
    {
     "cell_type": "code",
     "collapsed": false,
     "input": [
      "def pred_rate(x, a):\n",
      "    \n",
      "    j=0\n",
      "    k=0\n",
      "    for i in range(0, 27, 1): # as there are 23 rows(x.shape), range(0,23) \n",
      "        if x.irow(i)>0 and a[i]>0: \n",
      "            j= j+(a[i]*x.irow(i))\n",
      "            k= k+a[i]\n",
      "        else:\n",
      "            continue\n",
      "    return j/k"
     ],
     "language": "python",
     "metadata": {},
     "outputs": [],
     "prompt_number": 14
    },
    {
     "cell_type": "code",
     "collapsed": false,
     "input": [
      "print \"My ratings for the movies that I have not seen using class review:\"\n",
      "for i in range(0, 10, 1): \n",
      "    x=M[not_rated.index[i]]\n",
      "    rate=pred_rate(x, a)\n",
      "    print not_rated.index[i] +\": \", rate.round(1)"
     ],
     "language": "python",
     "metadata": {},
     "outputs": [
      {
       "output_type": "stream",
       "stream": "stdout",
       "text": [
        "My ratings for the movies that I have not seen using class review:\n",
        "The Hunger Games: Mockingjay - Part 1:  2.8\n",
        "Guardians of the Galaxy:  3.4\n",
        "The Lego Movie:  3.1\n",
        "Transformers:  3.6\n",
        "Malificent:  3.3\n",
        "Big Hero 6:  4.0\n",
        "Interstellar:  4.3\n",
        "Gone Girl:  4.0\n",
        "The Fault in Our Stars:  3.3\n",
        "Unbroken:  3.2\n"
       ]
      }
     ],
     "prompt_number": 15
    },
    {
     "cell_type": "code",
     "collapsed": false,
     "input": [],
     "language": "python",
     "metadata": {},
     "outputs": []
    }
   ],
   "metadata": {}
  }
 ]
}